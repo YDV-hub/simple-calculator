{
 "cells": [
  {
   "cell_type": "code",
   "execution_count": 1,
   "id": "d292fe77-5225-4819-bb8b-a8f837ec1370",
   "metadata": {},
   "outputs": [
    {
     "name": "stdin",
     "output_type": "stream",
     "text": [
      "Enter a number 5\n",
      "Enter a number 6\n"
     ]
    },
    {
     "name": "stdout",
     "output_type": "stream",
     "text": [
      "enter your choice\n",
      " + for addition\n",
      " - for subtraction\n",
      " * for multiplication\n",
      " / for division\n"
     ]
    },
    {
     "name": "stdin",
     "output_type": "stream",
     "text": [
      "enter your choice *\n"
     ]
    },
    {
     "name": "stdout",
     "output_type": "stream",
     "text": [
      "30\n"
     ]
    }
   ],
   "source": [
    "a=int(input(\"Enter a number\"))\n",
    "b=int(input(\"Enter a number\"))\n",
    "print(\"enter your choice\\n + for addition\\n - for subtraction\\n * for multiplication\\n / for division\")\n",
    "c=(input(\"enter your choice\"))\n",
    "if(c==\"+\"):\n",
    "    print(a+b)\n",
    "elif(c==\"-\"):\n",
    "    print(a-b)\n",
    "elif(c==\"*\"):\n",
    "    print(a*b)\n",
    "elif(c==\"/\"):\n",
    "    print(a/b)\n",
    "else:\n",
    "    print(\"enter right operator\")\n"
   ]
  },
  {
   "cell_type": "code",
   "execution_count": null,
   "id": "f2066eec-c4a2-4c33-8e42-648c8a66f2c6",
   "metadata": {},
   "outputs": [],
   "source": []
  }
 ],
 "metadata": {
  "kernelspec": {
   "display_name": "Python 3 (ipykernel)",
   "language": "python",
   "name": "python3"
  },
  "language_info": {
   "codemirror_mode": {
    "name": "ipython",
    "version": 3
   },
   "file_extension": ".py",
   "mimetype": "text/x-python",
   "name": "python",
   "nbconvert_exporter": "python",
   "pygments_lexer": "ipython3",
   "version": "3.12.6"
  }
 },
 "nbformat": 4,
 "nbformat_minor": 5
}
